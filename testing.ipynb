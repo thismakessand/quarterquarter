{
 "cells": [
  {
   "cell_type": "code",
   "execution_count": null,
   "metadata": {},
   "outputs": [],
   "source": [
    "# import sys\n",
    "# !conda install --yes --prefix {sys.prefix} -c conda-forge shapely"
   ]
  },
  {
   "cell_type": "code",
   "execution_count": 44,
   "metadata": {},
   "outputs": [],
   "source": [
    "import random\n",
    "\n",
    "from shapely.ops import split\n",
    "from shapely.geometry.linestring import LineString\n",
    "from shapely.geometry.multipolygon import MultiPolygon\n",
    "from shapely.wkt import loads\n",
    "from matplotlib import pyplot as plt"
   ]
  },
  {
   "cell_type": "code",
   "execution_count": 45,
   "metadata": {},
   "outputs": [],
   "source": [
    "linea = LineString(([1, 0], [1, 1], [1, 2]))\n",
    "lineb = LineString(([0, 1], [1, 1], [2, 1]))"
   ]
  },
  {
   "cell_type": "code",
   "execution_count": 23,
   "metadata": {},
   "outputs": [
    {
     "data": {
      "text/plain": [
       "[<matplotlib.lines.Line2D at 0x210ecc55908>]"
      ]
     },
     "execution_count": 23,
     "metadata": {},
     "output_type": "execute_result"
    },
    {
     "data": {
      "image/png": "[encoded data removed]",
      "text/plain": [
       "<matplotlib.figure.Figure at 0x210ecbef6d8>"
      ]
     },
     "metadata": {},
     "output_type": "display_data"
    }
   ],
   "source": [
    "fig =  plt.figure(1, figsize=(5, 5), dpi=90)\n",
    "ax = fig.add_subplot(111)\n",
    "\n",
    "x, y = linea.xy\n",
    "ax.plot(x, y, color='blue', alpha=0.7,\n",
    "        linewidth=3, solid_capstyle='round', zorder=2)\n",
    "\n",
    "x, y = lineb.xy\n",
    "ax.plot(x, y, color='red', alpha=0.7,\n",
    "        linewidth=3, solid_capstyle='round', zorder=2)"
   ]
  },
  {
   "cell_type": "code",
   "execution_count": 14,
   "metadata": {},
   "outputs": [],
   "source": [
    "split_a = split(linea, lineb)\n",
    "split_b = split(lineb, linea)"
   ]
  },
  {
   "cell_type": "code",
   "execution_count": 37,
   "metadata": {},
   "outputs": [
    {
     "data": {
      "image/png": "[encoded data removed]",
      "text/plain": [
       "<matplotlib.figure.Figure at 0x210ecd6c278>"
      ]
     },
     "metadata": {},
     "output_type": "display_data"
    }
   ],
   "source": [
    "fig =  plt.figure(1, figsize=(5, 5), dpi=90)\n",
    "ax = fig.add_subplot(111)\n",
    "for geom in split_a:\n",
    "    x, y = geom.xy\n",
    "    ax.plot(x, y, alpha=0.7,\n",
    "        linewidth=3, solid_capstyle='round', zorder=2)\n",
    "for geom in split_b:\n",
    "    x, y = geom.xy\n",
    "    ax.plot(x, y, alpha=0.7,\n",
    "        linewidth=3, solid_capstyle='round', zorder=2)"
   ]
  },
  {
   "cell_type": "code",
   "execution_count": 38,
   "metadata": {},
   "outputs": [
    {
     "data": {
      "image/svg+xml": [
       "<svg xmlns=\"http://www.w3.org/2000/svg\" xmlns:xlink=\"http://www.w3.org/1999/xlink\" width=\"100.0\" height=\"100.0\" viewBox=\"0.96 -0.04 0.08000000000000007 1.08\" preserveAspectRatio=\"xMinYMin meet\"><g transform=\"matrix(1,0,0,-1,0,1.0)\"><polyline fill=\"none\" stroke=\"#66cc99\" stroke-width=\"0.0216\" points=\"1.0,0.0 1.0,1.0\" opacity=\"0.8\" /></g></svg>"
      ],
      "text/plain": [
       "<shapely.geometry.linestring.LineString at 0x210ecd51470>"
      ]
     },
     "execution_count": 38,
     "metadata": {},
     "output_type": "execute_result"
    }
   ],
   "source": [
    "split_a[0]"
   ]
  },
  {
   "cell_type": "code",
   "execution_count": 63,
   "metadata": {},
   "outputs": [],
   "source": [
    "polygon = loads(\"\"\"MultiPolygon (((147208.817200000397861 4104178.12759999930858612, 147223.2002999996766448 4104585.44189999997615814, 147236.12490000016987324 4104991.59710000082850456, 147643.1889000004157424 4104985.12189999967813492, 148053.67190000042319298 4104978.61339999921619892, 148464.15579999983310699 4104972.12160000018775463, 148874.6380000002682209 4104965.65289999917149544, 148845.73959999997168779 4104561.95270000025629997, 148828.27599999960511923 4104147.1181000005453825, 148810.81560000032186508 4103732.38550000078976154, 148793.35659999959170818 4103317.65000000037252903, 148388.97589999996125698 4103343.62549999915063381, 147984.59300000034272671 4103369.62069999985396862, 147580.31180000025779009 4103395.63089999929070473, 147181.94269999954849482 4103363.23240000009536743, 147194.43580000009387732 4103770.81039999984204769, 147208.817200000397861 4104178.12759999930858612)))\"\"\")"
   ]
  },
  {
   "cell_type": "code",
   "execution_count": 71,
   "metadata": {},
   "outputs": [
    {
     "data": {
      "image/svg+xml": [
       "<svg xmlns=\"http://www.w3.org/2000/svg\" xmlns:xlink=\"http://www.w3.org/1999/xlink\" width=\"300\" height=\"300\" viewBox=\"147114.2348879995 4103249.9421880003 1828.1109240007936 1809.362724000588\" preserveAspectRatio=\"xMinYMin meet\"><g transform=\"matrix(1,0,0,-1,0,8208309.247100001)\"><g><path fill-rule=\"evenodd\" fill=\"#66cc99\" stroke=\"#555555\" stroke-width=\"12.18740616000529\" opacity=\"0.6\" d=\"M 147208.8172000004,4104178.1275999993 L 147223.20029999968,4104585.4419 L 147236.12490000017,4104991.597100001 L 147643.18890000042,4104985.1218999997 L 148053.67190000042,4104978.613399999 L 148464.15579999983,4104972.1216 L 148874.63800000027,4104965.652899999 L 148845.73959999997,4104561.9527000003 L 148828.2759999996,4104147.1181000005 L 148810.81560000032,4103732.385500001 L 148793.3565999996,4103317.6500000004 L 148388.97589999996,4103343.625499999 L 147984.59300000034,4103369.6207 L 147580.31180000026,4103395.6308999993 L 147181.94269999955,4103363.2324 L 147194.4358000001,4103770.8104 L 147208.8172000004,4104178.1275999993 z\" /></g></g></svg>"
      ],
      "text/plain": [
       "<shapely.geometry.multipolygon.MultiPolygon at 0x210ee168438>"
      ]
     },
     "execution_count": 71,
     "metadata": {},
     "output_type": "execute_result"
    }
   ],
   "source": [
    "polygon"
   ]
  },
  {
   "cell_type": "code",
   "execution_count": 80,
   "metadata": {},
   "outputs": [],
   "source": [
    "from shapely.geometry.polygon import orient\n",
    "from shapely.ops import unary_union\n",
    "\n",
    "from quarterquarter.line_ops import classify_lines\n",
    "from quarterquarter.polygon_ops import split_to_lines\n",
    "\n",
    "from quarterquarter import quarter"
   ]
  },
  {
   "cell_type": "code",
   "execution_count": 82,
   "metadata": {},
   "outputs": [],
   "source": [
    "if polygon.type == 'MultiPolygon':\n",
    "    polygon = unary_union(polygon)"
   ]
  },
  {
   "cell_type": "code",
   "execution_count": 88,
   "metadata": {},
   "outputs": [],
   "source": [
    "polygon = orient(polygon, sign=-1.0)  # set orientation to clockwise\n",
    "\n",
    "lines = split_to_lines(polygon)\n",
    "labeled_lines = classify_lines(lines)\n"
   ]
  },
  {
   "cell_type": "code",
   "execution_count": 89,
   "metadata": {},
   "outputs": [
    {
     "data": {
      "image/svg+xml": [
       "<svg xmlns=\"http://www.w3.org/2000/svg\" xmlns:xlink=\"http://www.w3.org/1999/xlink\" width=\"300\" height=\"300\" viewBox=\"147114.2348879995 4103249.9421880003 1828.1109240007936 1809.362724000588\" preserveAspectRatio=\"xMinYMin meet\"><g transform=\"matrix(1,0,0,-1,0,8208309.247100001)\"><g><polyline fill=\"none\" stroke=\"#66cc99\" stroke-width=\"12.18740616000529\" points=\"147208.8172000004,4104178.1275999993 147223.20029999968,4104585.4419 147236.12490000017,4104991.597100001\" opacity=\"0.8\" /><polyline fill=\"none\" stroke=\"#66cc99\" stroke-width=\"12.18740616000529\" points=\"147236.12490000017,4104991.597100001 147643.18890000042,4104985.1218999997 148053.67190000042,4104978.613399999 148464.15579999983,4104972.1216 148874.63800000027,4104965.652899999\" opacity=\"0.8\" /><polyline fill=\"none\" stroke=\"#66cc99\" stroke-width=\"12.18740616000529\" points=\"148874.63800000027,4104965.652899999 148845.73959999997,4104561.9527000003 148828.2759999996,4104147.1181000005 148810.81560000032,4103732.385500001 148793.3565999996,4103317.6500000004\" opacity=\"0.8\" /><polyline fill=\"none\" stroke=\"#66cc99\" stroke-width=\"12.18740616000529\" points=\"148793.3565999996,4103317.6500000004 148388.97589999996,4103343.625499999 147984.59300000034,4103369.6207 147580.31180000026,4103395.6308999993 147181.94269999955,4103363.2324\" opacity=\"0.8\" /><polyline fill=\"none\" stroke=\"#66cc99\" stroke-width=\"12.18740616000529\" points=\"147181.94269999955,4103363.2324 147194.4358000001,4103770.8104 147208.8172000004,4104178.1275999993\" opacity=\"0.8\" /></g></g></svg>"
      ],
      "text/plain": [
       "<shapely.geometry.collection.GeometryCollection at 0x210ee174940>"
      ]
     },
     "execution_count": 89,
     "metadata": {},
     "output_type": "execute_result"
    }
   ],
   "source": [
    "lines"
   ]
  },
  {
   "cell_type": "code",
   "execution_count": 90,
   "metadata": {},
   "outputs": [
    {
     "data": {
      "text/plain": [
       "[LabeledLine(label='W', line=<shapely.geometry.linestring.LineString object at 0x00000210ECD96710>),\n",
       " LabeledLine(label='N', line=<shapely.geometry.linestring.LineString object at 0x00000210ECD96908>),\n",
       " LabeledLine(label='E', line=<shapely.geometry.linestring.LineString object at 0x00000210ECD96FD0>),\n",
       " LabeledLine(label='S', line=<shapely.geometry.linestring.LineString object at 0x00000210ECD96A20>),\n",
       " LabeledLine(label='W', line=<shapely.geometry.linestring.LineString object at 0x00000210ECD969E8>)]"
      ]
     },
     "execution_count": 90,
     "metadata": {},
     "output_type": "execute_result"
    }
   ],
   "source": [
    "labeled_lines"
   ]
  },
  {
   "cell_type": "code",
   "execution_count": 92,
   "metadata": {},
   "outputs": [],
   "source": [
    "quarters = quarter(polygon)"
   ]
  },
  {
   "cell_type": "code",
   "execution_count": 97,
   "metadata": {},
   "outputs": [
    {
     "data": {
      "image/png": "[encoded data removed]",
      "text/plain": [
       "<matplotlib.figure.Figure at 0x210ee1f8828>"
      ]
     },
     "metadata": {},
     "output_type": "display_data"
    }
   ],
   "source": [
    "fig, axs = plt.subplots()\n",
    "for geom in [q.polygon for q in quarters]:\n",
    "    x, y = geom.exterior.xy\n",
    "    axs.fill(x, y, alpha=0.5, edgecolor='black')"
   ]
  },
  {
   "cell_type": "code",
   "execution_count": null,
   "metadata": {},
   "outputs": [],
   "source": []
  }
 ],
 "metadata": {
  "kernelspec": {
   "display_name": "Python 3",
   "language": "python",
   "name": "python3"
  },
  "language_info": {
   "codemirror_mode": {
    "name": "ipython",
    "version": 3
   },
   "file_extension": ".py",
   "mimetype": "text/x-python",
   "name": "python",
   "nbconvert_exporter": "python",
   "pygments_lexer": "ipython3",
   "version": "3.6.0"
  }
 },
 "nbformat": 4,
 "nbformat_minor": 1
}
